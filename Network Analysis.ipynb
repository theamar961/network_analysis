{
 "cells": [
  {
   "cell_type": "markdown",
   "id": "5a3b27f0",
   "metadata": {},
   "source": [
    "# Network Analysis\n",
    "\n",
    "Network Science is a subset of Data Science which deals with data which can be depicted in the form of networks. A simple example of a network would be a chain of email exchanges between numerous employees in an organization.\n"
   ]
  },
  {
   "cell_type": "markdown",
   "id": "62d84ef5",
   "metadata": {},
   "source": [
    "## Dataset Used\n",
    "\n",
    "In this Notebook, I have used the publicly available Enron dataset. Enoron was an American energy, commodities, and services speculator that went bankrupt in late 2001 as a result of fraudulent activity.The Enron Scandal involves Enron deceiving regulators through off-the-books accounting practices and the incorporation of phony holdings. The dataset we’re using is the Enron Corpus, which contains data from over half a million emails between the company’s employees and was obtained by the Federal Energy Regulatory Commission during the investigation into its demise.\n",
    "The dataset I’ve used contains data from about users, mostly senior management of Enron. The corpus contains a total of about half a million messages. For my analysis I've worked on the first 50 thousand rows. This dataset was obtained by the Federal Energy Regulatory Commission during its investigation of Enron’s collapse. We have obtained the dataset from https://www.cs.cmu.edu/~./enron/. "
   ]
  },
  {
   "cell_type": "markdown",
   "id": "1b135a4a",
   "metadata": {},
   "source": [
    "### Primary Libraries Utilized"
   ]
  },
  {
   "cell_type": "code",
   "execution_count": 1,
   "id": "c1d56416",
   "metadata": {},
   "outputs": [],
   "source": [
    "import pandas as pd\n",
    "import numpy as np\n",
    "import re\n",
    "import warnings\n",
    "warnings.filterwarnings('ignore')"
   ]
  },
  {
   "cell_type": "markdown",
   "id": "192d7862",
   "metadata": {},
   "source": [
    "### Loading our dataset\n",
    "\n",
    "I am utilizing only the first 50,000 rows of data"
   ]
  },
  {
   "cell_type": "code",
   "execution_count": 2,
   "id": "31327012",
   "metadata": {},
   "outputs": [],
   "source": [
    "email_df = pd.read_csv('emails.csv', nrows = 50000)"
   ]
  },
  {
   "cell_type": "code",
   "execution_count": 3,
   "id": "5e1513c3",
   "metadata": {},
   "outputs": [
    {
     "name": "stdout",
     "output_type": "stream",
     "text": [
      "<class 'pandas.core.frame.DataFrame'>\n",
      "RangeIndex: 50000 entries, 0 to 49999\n",
      "Data columns (total 2 columns):\n",
      " #   Column   Non-Null Count  Dtype \n",
      "---  ------   --------------  ----- \n",
      " 0   file     50000 non-null  object\n",
      " 1   message  50000 non-null  object\n",
      "dtypes: object(2)\n",
      "memory usage: 781.4+ KB\n"
     ]
    }
   ],
   "source": [
    "email_df.info()"
   ]
  },
  {
   "cell_type": "code",
   "execution_count": 4,
   "id": "5921848e",
   "metadata": {},
   "outputs": [
    {
     "data": {
      "text/html": [
       "<div>\n",
       "<style scoped>\n",
       "    .dataframe tbody tr th:only-of-type {\n",
       "        vertical-align: middle;\n",
       "    }\n",
       "\n",
       "    .dataframe tbody tr th {\n",
       "        vertical-align: top;\n",
       "    }\n",
       "\n",
       "    .dataframe thead th {\n",
       "        text-align: right;\n",
       "    }\n",
       "</style>\n",
       "<table border=\"1\" class=\"dataframe\">\n",
       "  <thead>\n",
       "    <tr style=\"text-align: right;\">\n",
       "      <th></th>\n",
       "      <th>file</th>\n",
       "      <th>message</th>\n",
       "    </tr>\n",
       "  </thead>\n",
       "  <tbody>\n",
       "    <tr>\n",
       "      <th>0</th>\n",
       "      <td>allen-p/_sent_mail/1.</td>\n",
       "      <td>Message-ID: &lt;18782981.1075855378110.JavaMail.e...</td>\n",
       "    </tr>\n",
       "    <tr>\n",
       "      <th>1</th>\n",
       "      <td>allen-p/_sent_mail/10.</td>\n",
       "      <td>Message-ID: &lt;15464986.1075855378456.JavaMail.e...</td>\n",
       "    </tr>\n",
       "    <tr>\n",
       "      <th>2</th>\n",
       "      <td>allen-p/_sent_mail/100.</td>\n",
       "      <td>Message-ID: &lt;24216240.1075855687451.JavaMail.e...</td>\n",
       "    </tr>\n",
       "    <tr>\n",
       "      <th>3</th>\n",
       "      <td>allen-p/_sent_mail/1000.</td>\n",
       "      <td>Message-ID: &lt;13505866.1075863688222.JavaMail.e...</td>\n",
       "    </tr>\n",
       "    <tr>\n",
       "      <th>4</th>\n",
       "      <td>allen-p/_sent_mail/1001.</td>\n",
       "      <td>Message-ID: &lt;30922949.1075863688243.JavaMail.e...</td>\n",
       "    </tr>\n",
       "  </tbody>\n",
       "</table>\n",
       "</div>"
      ],
      "text/plain": [
       "                       file                                            message\n",
       "0     allen-p/_sent_mail/1.  Message-ID: <18782981.1075855378110.JavaMail.e...\n",
       "1    allen-p/_sent_mail/10.  Message-ID: <15464986.1075855378456.JavaMail.e...\n",
       "2   allen-p/_sent_mail/100.  Message-ID: <24216240.1075855687451.JavaMail.e...\n",
       "3  allen-p/_sent_mail/1000.  Message-ID: <13505866.1075863688222.JavaMail.e...\n",
       "4  allen-p/_sent_mail/1001.  Message-ID: <30922949.1075863688243.JavaMail.e..."
      ]
     },
     "execution_count": 4,
     "metadata": {},
     "output_type": "execute_result"
    }
   ],
   "source": [
    "email_df.head()"
   ]
  },
  {
   "cell_type": "markdown",
   "id": "8ccfd60a",
   "metadata": {},
   "source": [
    "### Data cleaning\n",
    "\n",
    "For network analysis, the dataset must be properly prepared and cleaned. The dataset currently has two columns: file and message. The’message’ column contains information about the sender, recipient, and email text.\n",
    "1. Removing Noisy Data: I first removed all the rows where the ’message’ column does not not follow the standard format. This will make our extraction easier.\n",
    "2. Extracting: From the the ’message’ column we extract relevant information for our anal- ysis purpose. I got the date, the send id, the receiver id and the message itself and make columns respectively.\n",
    "3. Creating Word Flags: Based on the key words present in the email transcript we are adding a flag column to indicate the presence of that word in the email.\n",
    "4. Data Aggregations: Multiple data aggregations are built for various analyses and network styles.\n"
   ]
  },
  {
   "cell_type": "code",
   "execution_count": null,
   "id": "645c3173",
   "metadata": {},
   "outputs": [
    {
     "name": "stdout",
     "output_type": "stream",
     "text": [
      "Got rid of 12485 useless emails! That's 24.97% of the total number of messages in this dataset.\n"
     ]
    }
   ],
   "source": [
    "def standard_format(df, Series, string, slicer):\n",
    "    \"\"\"Drops rows containing messages without some specified value in the expected locations. \n",
    "    Returns original dataframe without these values. Don't forget to reindex after doing this!!!\"\"\"\n",
    "    rows = []\n",
    "    for row, message in enumerate(Series):\n",
    "        message_words = message.split('\\n')\n",
    "        if string not in message_words[slicer]:\n",
    "            rows.append(row)\n",
    "    df = df.drop(df.index[rows])\n",
    "    return df\n",
    "\n",
    "def get_text(Series, row_num_slicer):\n",
    "    \"\"\"returns a Series with text sliced from a list split from each message. Row_num_slicer\n",
    "    tells function where to slice split text to find only the body of the message.\"\"\"\n",
    "    result = pd.Series(index=Series.index)\n",
    "    for row, message in enumerate(Series):\n",
    "        message_words = message.split('\\n')\n",
    "        del message_words[:row_num_slicer]\n",
    "        result.iloc[row] = message_words\n",
    "    return result\n",
    "\n",
    "def get_row(Series, row_num):\n",
    "    \"\"\"returns a single row split out from each message. Row_num is the index of the specific\n",
    "    row that you want the function to return.\"\"\"\n",
    "    result = pd.Series(index=Series.index)\n",
    "    for row, message in enumerate(Series):\n",
    "        message_words = message.split('\\n')\n",
    "        message_words = message_words[row_num]\n",
    "        result.iloc[row] = message_words\n",
    "    return result\n",
    "\n",
    "def get_address(df, Series, num_cols=1):\n",
    "    \"\"\"returns a specified email address from each row in a Series\"\"\"\n",
    "    address = re.compile('[\\w\\.-]+@[\\w\\.-]+\\.\\w+')\n",
    "    addresses = []\n",
    "    result1 = pd.Series(index=df.index)\n",
    "    result2 = pd.Series(index=df.index)\n",
    "    result3 = pd.Series(index=df.index)\n",
    "    for i in range(len(df)):\n",
    "        for message in Series:\n",
    "            correspondents = re.findall(address, message)\n",
    "            addresses.append(correspondents)\n",
    "            result1[i] = addresses[i][0]\n",
    "        if num_cols >= 2:\n",
    "            if len(addresses[i]) >= 3:\n",
    "                result2[i] = addresses[i][1]\n",
    "                if num_cols == 3:\n",
    "                    if len(addresses[i]) >= 4:\n",
    "                        result3[i] = addresses[i][2]\n",
    "    return result1, result2, result3\n",
    "\n",
    "def standard_format(df, Series, string, slicer):\n",
    "    \"\"\"Drops rows containing messages without some specified value in the expected locations. \n",
    "    Returns original dataframe without these values. Don't forget to reindex after doing this!!!\"\"\"\n",
    "    rows = []\n",
    "    for row, message in enumerate(Series):\n",
    "        message_words = message.split('\\n')\n",
    "        if string not in message_words[slicer]:\n",
    "            rows.append(row)\n",
    "    df = df.drop(df.index[rows])\n",
    "    return df\n",
    "\n",
    "# Remove emails that are faulty or erroraneous \n",
    "length_emails = len(email_df.index)\n",
    "headers = ['Message-ID: ', 'Date: ', 'From: ', 'To: ', 'Subject: ']\n",
    "for i, v in enumerate(headers):\n",
    "    email_df = standard_format(email_df, email_df.message, v, i)\n",
    "email_df = email_df.reset_index()\n",
    "print(\"Got rid of {} useless emails! That's {}% of the total number of messages in this dataset.\".format(length_emails - len(email_df.index), np.round(((length_emails - len(email_df.index)) / (length_emails)) * 100, decimals=2)))\n",
    "\n",
    "# Extract relevant columns from the message column\n",
    "data = email_df\n",
    "\n",
    "data['text'] = get_text(data.message, 15)\n",
    "data['date'] = get_row(data.message, 1)\n",
    "data['senders'] = get_row(data.message, 2)\n",
    "data['recipients'] = get_row(data.message, 3)\n",
    "\n",
    "data.date = data.date.str.replace('Date: ', '')\n",
    "data.date = pd.to_datetime(data.date)\n",
    "\n",
    "# Additional columns can be utilized as wished, although for my analysis - I am limiting the scope.\n",
    "data['recipient1'], data['recipient2'], data['recipient3'] = get_address(data, data.recipients, num_cols=3)\n",
    "data['sender'], x, y = get_address(data, data.senders)\n",
    "\n",
    "del data['recipients']\n",
    "del data['senders']\n",
    "del data['file']\n",
    "del data['message']"
   ]
  },
  {
   "cell_type": "code",
   "execution_count": 9,
   "id": "52cf365d",
   "metadata": {},
   "outputs": [
    {
     "name": "stdout",
     "output_type": "stream",
     "text": [
      "                        date                      sender  \\\n",
      "0  2000-12-08 09:42:00-08:00      brad.richter@enron.com   \n",
      "1  2000-12-08 09:30:00-08:00   annemarie.allex@enron.com   \n",
      "2  2000-12-13 10:05:00-08:00      shona.wilson@enron.com   \n",
      "3  2000-12-08 06:36:00-08:00      sheri.thomas@enron.com   \n",
      "4  2000-12-08 02:36:00-08:00  arsystem@mailman.enron.com   \n",
      "\n",
      "                 recipient1                                              email  \n",
      "0      sally.beck@enron.com  ['', 'Sally--', '', \"I'm pretty sure that I sa...  \n",
      "1      sally.beck@enron.com  ['X-Origin: Beck-S', 'X-FileName: sbeck.nsf', ...  \n",
      "2  patti.thompson@enron.com  ['', '---------------------- Forwarded by Shon...  \n",
      "3  patti.thompson@enron.com  ['X-Origin: Beck-S', 'X-FileName: sbeck.nsf', ...  \n",
      "4      sally.beck@enron.com  ['', 'You have received this email because you...  \n"
     ]
    },
    {
     "name": "stderr",
     "output_type": "stream",
     "text": [
      "<ipython-input-9-1490b13d2f70>:3: SettingWithCopyWarning: \n",
      "A value is trying to be set on a copy of a slice from a DataFrame.\n",
      "Try using .loc[row_indexer,col_indexer] = value instead\n",
      "\n",
      "See the caveats in the documentation: https://pandas.pydata.org/pandas-docs/stable/user_guide/indexing.html#returning-a-view-versus-a-copy\n",
      "  data_cleaned['email'] = [''.join(data['text'][i]) for i in range(0,len(data))]\n"
     ]
    }
   ],
   "source": [
    "data = data.reset_index()\n",
    "data_cleaned = data[['date', 'sender', 'recipient1']]\n",
    "data_cleaned['email'] = [''.join(data['text'][i]) for i in range(0,len(data))]\n",
    "print(data_cleaned.head())"
   ]
  },
  {
   "cell_type": "markdown",
   "id": "fdf706a5",
   "metadata": {},
   "source": [
    "### Exploratory Data Analysis"
   ]
  },
  {
   "cell_type": "code",
   "execution_count": 10,
   "id": "6d54fe30",
   "metadata": {},
   "outputs": [],
   "source": [
    "emails_sent_df = data[['sender']].value_counts().reset_index().head(10)\n",
    "emails_sent_df.columns = ['Sender', 'Emails Sent']"
   ]
  },
  {
   "cell_type": "code",
   "execution_count": 11,
   "id": "b89c994d",
   "metadata": {},
   "outputs": [
    {
     "data": {
      "image/png": "[encoded data removed]",
      "text/plain": [
       "<Figure size 720x576 with 1 Axes>"
      ]
     },
     "metadata": {
      "needs_background": "light"
     },
     "output_type": "display_data"
    }
   ],
   "source": [
    "import seaborn as sns\n",
    "import matplotlib.pyplot as plt\n",
    "plt.figure(figsize=(10,8))\n",
    "\n",
    "sns.barplot(y=\"Sender\", x=\"Emails Sent\", data=emails_sent_df, palette=\"Blues_d\")\n",
    "plt.title(\"Employees with highest out-degree\")\n",
    "plt.xlabel(\"Count\")\n",
    "plt.ylabel(\"Employee_name\")\n",
    "plt.show()"
   ]
  },
  {
   "cell_type": "code",
   "execution_count": 12,
   "id": "962c2827",
   "metadata": {},
   "outputs": [],
   "source": [
    "x = data[['recipient1']].value_counts().reset_index().head(10)\n",
    "x.columns = ['Receiver', 'Emails Received']"
   ]
  },
  {
   "cell_type": "code",
   "execution_count": 13,
   "id": "8bba436c",
   "metadata": {},
   "outputs": [
    {
     "data": {
      "text/html": [
       "<div>\n",
       "<style scoped>\n",
       "    .dataframe tbody tr th:only-of-type {\n",
       "        vertical-align: middle;\n",
       "    }\n",
       "\n",
       "    .dataframe tbody tr th {\n",
       "        vertical-align: top;\n",
       "    }\n",
       "\n",
       "    .dataframe thead th {\n",
       "        text-align: right;\n",
       "    }\n",
       "</style>\n",
       "<table border=\"1\" class=\"dataframe\">\n",
       "  <thead>\n",
       "    <tr style=\"text-align: right;\">\n",
       "      <th></th>\n",
       "      <th>date</th>\n",
       "      <th>sender</th>\n",
       "      <th>recipient1</th>\n",
       "      <th>text</th>\n",
       "    </tr>\n",
       "  </thead>\n",
       "  <tbody>\n",
       "    <tr>\n",
       "      <th>0</th>\n",
       "      <td>2000-12-08 09:42:00-08:00</td>\n",
       "      <td>brad.richter@enron.com</td>\n",
       "      <td>sally.beck@enron.com</td>\n",
       "      <td>['', 'Sally--', '', \"I'm pretty sure that I sa...</td>\n",
       "    </tr>\n",
       "    <tr>\n",
       "      <th>1</th>\n",
       "      <td>2000-12-08 09:30:00-08:00</td>\n",
       "      <td>annemarie.allex@enron.com</td>\n",
       "      <td>sally.beck@enron.com</td>\n",
       "      <td>['X-Origin: Beck-S', 'X-FileName: sbeck.nsf', ...</td>\n",
       "    </tr>\n",
       "    <tr>\n",
       "      <th>2</th>\n",
       "      <td>2000-12-13 10:05:00-08:00</td>\n",
       "      <td>shona.wilson@enron.com</td>\n",
       "      <td>patti.thompson@enron.com</td>\n",
       "      <td>['', '---------------------- Forwarded by Shon...</td>\n",
       "    </tr>\n",
       "    <tr>\n",
       "      <th>3</th>\n",
       "      <td>2000-12-08 06:36:00-08:00</td>\n",
       "      <td>sheri.thomas@enron.com</td>\n",
       "      <td>patti.thompson@enron.com</td>\n",
       "      <td>['X-Origin: Beck-S', 'X-FileName: sbeck.nsf', ...</td>\n",
       "    </tr>\n",
       "    <tr>\n",
       "      <th>4</th>\n",
       "      <td>2000-12-08 02:36:00-08:00</td>\n",
       "      <td>arsystem@mailman.enron.com</td>\n",
       "      <td>sally.beck@enron.com</td>\n",
       "      <td>['', 'You have received this email because you...</td>\n",
       "    </tr>\n",
       "  </tbody>\n",
       "</table>\n",
       "</div>"
      ],
      "text/plain": [
       "                        date                      sender  \\\n",
       "0  2000-12-08 09:42:00-08:00      brad.richter@enron.com   \n",
       "1  2000-12-08 09:30:00-08:00   annemarie.allex@enron.com   \n",
       "2  2000-12-13 10:05:00-08:00      shona.wilson@enron.com   \n",
       "3  2000-12-08 06:36:00-08:00      sheri.thomas@enron.com   \n",
       "4  2000-12-08 02:36:00-08:00  arsystem@mailman.enron.com   \n",
       "\n",
       "                 recipient1                                               text  \n",
       "0      sally.beck@enron.com  ['', 'Sally--', '', \"I'm pretty sure that I sa...  \n",
       "1      sally.beck@enron.com  ['X-Origin: Beck-S', 'X-FileName: sbeck.nsf', ...  \n",
       "2  patti.thompson@enron.com  ['', '---------------------- Forwarded by Shon...  \n",
       "3  patti.thompson@enron.com  ['X-Origin: Beck-S', 'X-FileName: sbeck.nsf', ...  \n",
       "4      sally.beck@enron.com  ['', 'You have received this email because you...  "
      ]
     },
     "execution_count": 13,
     "metadata": {},
     "output_type": "execute_result"
    }
   ],
   "source": [
    "data[['date', 'sender', 'recipient1', 'text']].head()"
   ]
  },
  {
   "cell_type": "code",
   "execution_count": 14,
   "id": "0d76fefa",
   "metadata": {},
   "outputs": [
    {
     "data": {
      "image/png": "[encoded data removed]",
      "text/plain": [
       "<Figure size 720x576 with 1 Axes>"
      ]
     },
     "metadata": {
      "needs_background": "light"
     },
     "output_type": "display_data"
    }
   ],
   "source": [
    "import seaborn as sns\n",
    "import matplotlib.pyplot as plt\n",
    "plt.figure(figsize=(10,8))\n",
    "\n",
    "sns.barplot(y=\"Receiver\", x=\"Emails Received\", data=x, palette=\"Blues_d\")\n",
    "plt.title(\"Employees with highest in-degree\")\n",
    "plt.xlabel(\"Count\")\n",
    "plt.ylabel(\"Employee_name\")\n",
    "plt.show()"
   ]
  },
  {
   "cell_type": "code",
   "execution_count": 15,
   "id": "ec843bdc",
   "metadata": {},
   "outputs": [
    {
     "data": {
      "text/html": [
       "<div>\n",
       "<style scoped>\n",
       "    .dataframe tbody tr th:only-of-type {\n",
       "        vertical-align: middle;\n",
       "    }\n",
       "\n",
       "    .dataframe tbody tr th {\n",
       "        vertical-align: top;\n",
       "    }\n",
       "\n",
       "    .dataframe thead th {\n",
       "        text-align: right;\n",
       "    }\n",
       "</style>\n",
       "<table border=\"1\" class=\"dataframe\">\n",
       "  <thead>\n",
       "    <tr style=\"text-align: right;\">\n",
       "      <th></th>\n",
       "      <th>Sender</th>\n",
       "      <th>Receiver</th>\n",
       "      <th>Directed Links(Emails)</th>\n",
       "    </tr>\n",
       "  </thead>\n",
       "  <tbody>\n",
       "    <tr>\n",
       "      <th>0</th>\n",
       "      <td>sally.beck@enron.com</td>\n",
       "      <td>patti.thompson@enron.com</td>\n",
       "      <td>508</td>\n",
       "    </tr>\n",
       "    <tr>\n",
       "      <th>1</th>\n",
       "      <td>eric.bass@enron.com</td>\n",
       "      <td>shanna.husser@enron.com</td>\n",
       "      <td>491</td>\n",
       "    </tr>\n",
       "    <tr>\n",
       "      <th>2</th>\n",
       "      <td>owner-nyiso_tech_exchange@lists.thebiz.net</td>\n",
       "      <td>marketrelations@nyiso.com</td>\n",
       "      <td>373</td>\n",
       "    </tr>\n",
       "    <tr>\n",
       "      <th>3</th>\n",
       "      <td>eric.bass@enron.com</td>\n",
       "      <td>jason.bass2@compaq.com</td>\n",
       "      <td>371</td>\n",
       "    </tr>\n",
       "    <tr>\n",
       "      <th>4</th>\n",
       "      <td>mailbot@datek.com</td>\n",
       "      <td>lcampbel@enron.com</td>\n",
       "      <td>345</td>\n",
       "    </tr>\n",
       "    <tr>\n",
       "      <th>5</th>\n",
       "      <td>enron.announcements@enron.com</td>\n",
       "      <td>all.houston@enron.com</td>\n",
       "      <td>293</td>\n",
       "    </tr>\n",
       "    <tr>\n",
       "      <th>6</th>\n",
       "      <td>enron.announcements@enron.com</td>\n",
       "      <td>all.worldwide@enron.com</td>\n",
       "      <td>278</td>\n",
       "    </tr>\n",
       "    <tr>\n",
       "      <th>7</th>\n",
       "      <td>owner-nyiso_tech_exchange@lists.thebiz.net</td>\n",
       "      <td>tie_list_server@nyiso.com</td>\n",
       "      <td>274</td>\n",
       "    </tr>\n",
       "    <tr>\n",
       "      <th>8</th>\n",
       "      <td>eric.bass@enron.com</td>\n",
       "      <td>daphneco64@bigplanet.com</td>\n",
       "      <td>272</td>\n",
       "    </tr>\n",
       "    <tr>\n",
       "      <th>9</th>\n",
       "      <td>eric.bass@enron.com</td>\n",
       "      <td>timothy.blanchard@enron.com</td>\n",
       "      <td>266</td>\n",
       "    </tr>\n",
       "  </tbody>\n",
       "</table>\n",
       "</div>"
      ],
      "text/plain": [
       "                                       Sender                     Receiver  \\\n",
       "0                        sally.beck@enron.com     patti.thompson@enron.com   \n",
       "1                         eric.bass@enron.com      shanna.husser@enron.com   \n",
       "2  owner-nyiso_tech_exchange@lists.thebiz.net    marketrelations@nyiso.com   \n",
       "3                         eric.bass@enron.com       jason.bass2@compaq.com   \n",
       "4                           mailbot@datek.com           lcampbel@enron.com   \n",
       "5               enron.announcements@enron.com        all.houston@enron.com   \n",
       "6               enron.announcements@enron.com      all.worldwide@enron.com   \n",
       "7  owner-nyiso_tech_exchange@lists.thebiz.net    tie_list_server@nyiso.com   \n",
       "8                         eric.bass@enron.com     daphneco64@bigplanet.com   \n",
       "9                         eric.bass@enron.com  timothy.blanchard@enron.com   \n",
       "\n",
       "   Directed Links(Emails)  \n",
       "0                     508  \n",
       "1                     491  \n",
       "2                     373  \n",
       "3                     371  \n",
       "4                     345  \n",
       "5                     293  \n",
       "6                     278  \n",
       "7                     274  \n",
       "8                     272  \n",
       "9                     266  "
      ]
     },
     "execution_count": 15,
     "metadata": {},
     "output_type": "execute_result"
    }
   ],
   "source": [
    "x = data[['sender', 'recipient1']].value_counts().reset_index()\n",
    "x.columns = ['Sender', 'Receiver', 'Directed Links(Emails)']\n",
    "x.head(10)"
   ]
  },
  {
   "cell_type": "markdown",
   "id": "ba28330b",
   "metadata": {},
   "source": [
    "## Part 1 - Network Analysis\n",
    "\n",
    "\n",
    "Our initial network consists of 3400 nodes or employees connected by 4542 links. The network depicted is an undirected network that shows which employees in the organization have been part of the same email chain. At the moment, the edges depicted have no weight. Using Python’s networkx package, I was able to obtain network attributes such as degree central- ity, betweenness centrality, closeness centrality, and eigenvector centrality. This network was then constructed in the network visualization tool Gephi using these metrics.\n",
    "\n",
    "Gephi was used to find the communities in the network, with a modularity of 2 set. More than 200 communities were represented in the network. Upon inspection of the communities, these could be described as Enron’s internal teams. Because we are unable to visualize all 200 communities, we have chosen to filter the top eight communities because they are large enough.\n",
    "\n",
    "I used degree centrality to identify the key players in each community. Sally Beck, Don Bough- man, Rick Buy, Michelle Cash, and a few other notable employees appear to be well-known in this network. The nodes were sized based on betweenness centrality, which tells us who is most influential in spreading information within and between communities.\n",
    "\n",
    "This network represents an overview of the entire corpus, and my subsequent analysis will delve deeper into some key aspects."
   ]
  },
  {
   "cell_type": "markdown",
   "id": "f2b939f2",
   "metadata": {},
   "source": [
    "### Graph 1"
   ]
  },
  {
   "cell_type": "markdown",
   "id": "ff2505ec",
   "metadata": {},
   "source": [
    "![title](graphs/one.png)\n"
   ]
  },
  {
   "cell_type": "code",
   "execution_count": null,
   "id": "d2f0c11e",
   "metadata": {},
   "outputs": [],
   "source": [
    "import networkx as nx\n",
    "G1 = nx.from_pandas_edgelist(data, 'sender', 'recipient1', create_using=nx.Graph())\n",
    "nx.info(G1)"
   ]
  },
  {
   "cell_type": "code",
   "execution_count": null,
   "id": "e53d77b9",
   "metadata": {},
   "outputs": [],
   "source": [
    "eigen = nx.eigenvector_centrality(G1)\n",
    "betweeness = nx.betweenness_centrality(G1)\n",
    "closeness = nx.closeness_centrality(G1)\n",
    "degree = nx.degree_centrality(G1)"
   ]
  },
  {
   "cell_type": "code",
   "execution_count": null,
   "id": "5a8c2caf",
   "metadata": {},
   "outputs": [],
   "source": [
    "nx.set_node_attributes(G1, eigen, 'eigen_vector')\n",
    "nx.set_node_attributes(G1, betweeness, 'betweeness')\n",
    "nx.set_node_attributes(G1, closeness, 'closeness')\n",
    "nx.set_node_attributes(G1, degree, 'degree')"
   ]
  },
  {
   "cell_type": "code",
   "execution_count": null,
   "id": "3f54c14c",
   "metadata": {},
   "outputs": [],
   "source": [
    "print(\"Eigen vector centrality:\", eigen)"
   ]
  },
  {
   "cell_type": "code",
   "execution_count": null,
   "id": "a4efea50",
   "metadata": {},
   "outputs": [],
   "source": [
    "nx.write_gexf(G1, 'graph1_50k.gexf')"
   ]
  },
  {
   "cell_type": "markdown",
   "id": "cab2787b",
   "metadata": {},
   "source": [
    "### Graph 2\n",
    "\n",
    "This network consists of 3400 nodes or employees connected by 5275 links. In this directed graph the weight of each edge signifies the number of emails between those two nodes. The thickness of edge represents the number of emails sent between those two nodes. It is clear from this visualization that Sally Beck, the then COO of the company, is responsible for sending out more emails than any other employee in this sub network.\n",
    "The number of direct connections a person/node has is measured by degree centrality. Higher degree centrality is associated with larger node size in this demonstration. Someone at the very top of the food chain is likely to have a few connections, but not the most. They should only speak with ’department heads’ or their equivalents. We have also depicted the in-degree of each node by it’s size, where Michelle Cash and Don Baughman have a high in-degree, which is primarily coming from employees out of this sub-network."
   ]
  },
  {
   "cell_type": "markdown",
   "id": "73e19c5c",
   "metadata": {},
   "source": [
    "![title](graphs/two.png)\n"
   ]
  },
  {
   "cell_type": "code",
   "execution_count": null,
   "id": "d5de46fa",
   "metadata": {},
   "outputs": [],
   "source": [
    "data_3 = data.groupby(['sender', 'recipient1']).count()['text'].reset_index()\n",
    "data_3.head(10)"
   ]
  },
  {
   "cell_type": "code",
   "execution_count": null,
   "id": "8ffe4286",
   "metadata": {},
   "outputs": [],
   "source": [
    "G3 = nx.from_pandas_edgelist(data_3, 'sender', 'recipient1', ['text'], create_using=nx.MultiDiGraph())\n",
    "nx.info(G3)"
   ]
  },
  {
   "cell_type": "code",
   "execution_count": null,
   "id": "c537eea2",
   "metadata": {},
   "outputs": [],
   "source": [
    "nx.write_gexf(G3, 'graph3_50k.gexf')"
   ]
  },
  {
   "cell_type": "markdown",
   "id": "687f2ee4",
   "metadata": {},
   "source": [
    "## Part 2 - Text Based Network Analysis\n",
    "\n",
    "We also have the email transcript as a column that can be explored. Each email’s transcript was parsed for specific keywords related to the Enron Corporation’s demise. After parsing each email, I filtered emails based on the keywords found. These emails are then used to create a new sub- network that can be used to analyze employee email activity by keyword."
   ]
  },
  {
   "cell_type": "markdown",
   "id": "e50f96f8",
   "metadata": {},
   "source": [
    "### keywords used : Debt, stocks, loss\n",
    "\n",
    "\n",
    "Because Enron was a company involved in a lot of fraudulent activity, I filtered email exchanges based on the keywords debt, stocks, and loss in our first text-based network visualization. This sub-network contains extremely valuable information because it contains keywords related to fraud and may lead to the discovery of the conspiring members.\n",
    "Rick Buy is clearly a prominent figure in this sub-network based on the visualization. Using this information, we can speculate whether Rick Buy was aware of or involved in the fraudulent activities at Enron."
   ]
  },
  {
   "cell_type": "markdown",
   "id": "ead812ed",
   "metadata": {},
   "source": [
    "![title](graphs/third.png)\n"
   ]
  },
  {
   "cell_type": "code",
   "execution_count": null,
   "id": "baa775cc",
   "metadata": {},
   "outputs": [],
   "source": [
    "new_col = []\n",
    "for i in range(len(data)):\n",
    "    if 'loss' in data['text'][i] or 'debt' in data['text'][i] or 'stocks' in data['text'][i]:\n",
    "        new_col.append(1)\n",
    "    else:\n",
    "        new_col.append(0)\n",
    "data['debt_related'] = new_col"
   ]
  },
  {
   "cell_type": "code",
   "execution_count": null,
   "id": "7a8bced5",
   "metadata": {},
   "outputs": [],
   "source": [
    "data_p1 = data[data['debt_related'] == 1]"
   ]
  },
  {
   "cell_type": "code",
   "execution_count": null,
   "id": "64c39814",
   "metadata": {},
   "outputs": [],
   "source": [
    "data_3 = data_p1.groupby(['sender', 'recipient1']).count()['text'].reset_index()\n",
    "data_3.head(10)"
   ]
  },
  {
   "cell_type": "code",
   "execution_count": null,
   "id": "ee0d031d",
   "metadata": {},
   "outputs": [],
   "source": [
    "G3 = nx.from_pandas_edgelist(data_3, 'sender', 'recipient1', ['text'], create_using=nx.MultiDiGraph())\n",
    "nx.info(G3)"
   ]
  },
  {
   "cell_type": "code",
   "execution_count": null,
   "id": "c63a01b2",
   "metadata": {},
   "outputs": [],
   "source": [
    "nx.write_gexf(G3, 'graph4_50k.gexf')"
   ]
  },
  {
   "cell_type": "markdown",
   "id": "9d4267c5",
   "metadata": {},
   "source": [
    "### keywords used : termination, terminate, resignation, resign\n",
    "\n",
    "In this text based analysis I used keywords related to termination and resignation. During this period Enron experienced a high attrition rate due to the on going investigation. It is clear a lot of employees were losing faith in the management of the company and it’s future. I could see Michelle cash is a prominent person in this graph as she was the employment lawyer at Enron at the time. She also has the highest degree in this sub network. The reasons for her importance in this analysis is due to her position as an Employment attorney focuses on legal issues that arise from the em- ployer/employee relationship. Employment attorneys interpret and provide advice on many different kinds of employment laws, including wage and hour laws, workplace safety, rest break laws, dis- ability leave laws, workplace harassment, employee discrimination, and wrongful discharge. Some Employment attorneys litigate cases in court and others provide assistance to companies crafting company policies and employee handbooks."
   ]
  },
  {
   "cell_type": "markdown",
   "id": "276bf820",
   "metadata": {},
   "source": [
    "![title](graphs/four.png)\n"
   ]
  },
  {
   "cell_type": "code",
   "execution_count": null,
   "id": "5058daba",
   "metadata": {},
   "outputs": [],
   "source": [
    "new_col = []\n",
    "for i in range(len(data)):\n",
    "    if 'resign' in data['text'][i] or 'resignation' in data['text'][i] or 'termination' in data['text'][i]:\n",
    "        new_col.append(1)\n",
    "    else:\n",
    "        new_col.append(0)\n",
    "data['HR_related'] = new_col"
   ]
  },
  {
   "cell_type": "code",
   "execution_count": null,
   "id": "c86f7b29",
   "metadata": {},
   "outputs": [],
   "source": [
    "data_p2 = data[data['HR_related'] == 1]"
   ]
  },
  {
   "cell_type": "code",
   "execution_count": null,
   "id": "543bba8c",
   "metadata": {},
   "outputs": [],
   "source": [
    "data_3 = data_p2.groupby(['sender', 'recipient1']).count()['text'].reset_index()\n",
    "data_3.head(10)"
   ]
  },
  {
   "cell_type": "code",
   "execution_count": null,
   "id": "2b6c6e79",
   "metadata": {},
   "outputs": [],
   "source": [
    "G5 = nx.from_pandas_edgelist(data_3, 'sender', 'recipient1', ['text'], create_using=nx.MultiDiGraph())\n",
    "nx.info(G5)"
   ]
  },
  {
   "cell_type": "code",
   "execution_count": null,
   "id": "bc60c68b",
   "metadata": {},
   "outputs": [],
   "source": [
    "nx.write_gexf(G5, 'graph5_50k.gexf')"
   ]
  },
  {
   "cell_type": "markdown",
   "id": "185d3614",
   "metadata": {},
   "source": [
    "### keywords used : shareholder, stakeholder\n",
    "\n",
    "\n",
    "I wanted to filter employees who had contact with high-level management in this text-based net- work visualization. This could aid in determining or comprehending who was in charge of commu- nication or updates. To filter the network, I used keywords like ’stakeholder’ and ’shareholder.’\n",
    "It’s only natural for Rick Buy (Chief Risk Officer) to be the most visible person in this network. He has by far the highest in-degree in this network. In this network, Sally Beck has the highest out- degree for emails. Sally Beck was in contact with Cassandra Shultz, which is noteworthy. Cassandra Shultz was an Enron employee who was on trial for fraud and conspiracy."
   ]
  },
  {
   "cell_type": "markdown",
   "id": "5f2af48b",
   "metadata": {},
   "source": [
    "![title](graphs/five.png)\n"
   ]
  },
  {
   "cell_type": "code",
   "execution_count": null,
   "id": "2621a527",
   "metadata": {},
   "outputs": [],
   "source": [
    "new_col = []\n",
    "for i in range(len(data)):\n",
    "    if 'stakeholder' in data['text'][i] or 'shareholder' in data['text'][i]:\n",
    "        new_col.append(1)\n",
    "    else:\n",
    "        new_col.append(0)\n",
    "data['Clevel_employee'] = new_col"
   ]
  },
  {
   "cell_type": "code",
   "execution_count": null,
   "id": "07a570eb",
   "metadata": {},
   "outputs": [],
   "source": [
    "data_p3 = data[data['Clevel_employee'] == 1]"
   ]
  },
  {
   "cell_type": "code",
   "execution_count": null,
   "id": "cc89f2b0",
   "metadata": {},
   "outputs": [],
   "source": [
    "data_3 = data_p3.groupby(['sender', 'recipient1']).count()['text'].reset_index()\n",
    "data_3.head(10)"
   ]
  },
  {
   "cell_type": "code",
   "execution_count": null,
   "id": "876f3f06",
   "metadata": {},
   "outputs": [],
   "source": [
    "G6 = nx.from_pandas_edgelist(data_3, 'sender', 'recipient1', ['text'], create_using=nx.MultiDiGraph())\n",
    "nx.info(G6)"
   ]
  },
  {
   "cell_type": "code",
   "execution_count": null,
   "id": "db70f420",
   "metadata": {},
   "outputs": [],
   "source": [
    "nx.write_gexf(G6, 'graph6_50k.gexf')"
   ]
  },
  {
   "cell_type": "markdown",
   "id": "e813a569",
   "metadata": {},
   "source": [
    "### Conclusion and Findings\n",
    "\n",
    "1. To summarize my findings, I discovered clusters that could be used to identify departments within the organization. Using text-based analysis methods on the email text, I was able to identify targeted personnel.\n",
    "\n",
    "2. Using my explanatory analysis, I identified key members in our network. This gave me a starting point for my investigation. I used this information to do some research, which gave me a general understanding of the company.\n",
    "\n",
    "3. I identified node-based clusters in our network by setting the modularity to 2. I also used betweenness centrality to identify prominent members in these networks. It’s worth noting that these members corresponded to the members I identified in our explanatory analysis.\n",
    "\n",
    "4. I investigated email traffic in our subnetwork. I used a variety of graph-based analytics to determine which employees sent and received the most emails. Using centrality metrics, I also identified employees with the highest betweenness and closeness.\n",
    "\n",
    "5. In the final part of our analysis I conducted a text based analysis where I used certain keywords to filter the email text and recognise the employees associated with that email. I could successfully identify employees directed related to the high attrition rate in the organization. I could also single out employees who overlooked financial matters of the company and were aware about the debts and losses the company was suffering from."
   ]
  }
 ],
 "metadata": {
  "kernelspec": {
   "display_name": "Python 3",
   "language": "python",
   "name": "python3"
  },
  "language_info": {
   "codemirror_mode": {
    "name": "ipython",
    "version": 3
   },
   "file_extension": ".py",
   "mimetype": "text/x-python",
   "name": "python",
   "nbconvert_exporter": "python",
   "pygments_lexer": "ipython3",
   "version": "3.9.5"
  }
 },
 "nbformat": 4,
 "nbformat_minor": 5
}
